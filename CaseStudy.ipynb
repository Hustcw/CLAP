{
 "cells": [
  {
   "attachments": {},
   "cell_type": "markdown",
   "metadata": {},
   "source": [
    "# Preparing the environment\n",
    "Loading models and tokenizers for CLAP and calculating SHA-256 hash of CLAP model"
   ]
  },
  {
   "cell_type": "code",
   "execution_count": 1,
   "metadata": {},
   "outputs": [
    {
     "name": "stdout",
     "output_type": "stream",
     "text": [
      "e93bc8f9fbf39e753a35bc3be045217c2bdf348453914d13f97ef69e9bbaf36b\n"
     ]
    }
   ],
   "source": [
    "import torch.multiprocessing\n",
    "import torch\n",
    "import hashlib\n",
    "import json\n",
    "from transformers import MPNetTokenizerFast\n",
    "from clap import AsmEncoder, AsmTokenizer, TextEncoder\n",
    "\n",
    "asm_encoder_path    = \"./models/asm-encode\"\n",
    "text_encoder_path   = \"./models/text-encoder\"\n",
    "\n",
    "asm_tokenizer_path  = \"./models/asm-tokenizer\"\n",
    "text_tokenizer_path = \"./models/text-tokenizer\"\n",
    "\n",
    "\n",
    "asm_tokenizer       = AsmTokenizer.from_pretrained(asm_tokenizer_path)\n",
    "text_tokenizer      = MPNetTokenizerFast.from_pretrained(text_tokenizer_path)\n",
    "asm_encoder         = AsmEncoder.from_pretrained(asm_encoder_path).cuda()\n",
    "text_encoder        = TextEncoder.from_pretrained(text_encoder_path).cuda()\n",
    "\n",
    "device = torch.device(\"cuda\")\n",
    "\n",
    "bubble_output       = \"bubblesort.json\"\n",
    "malware_output      = \"malware.json\"\n",
    "sha3              = \"sha3.json\"\n",
    "\n",
    "hash_obj = hashlib.new(\"sha256\")\n",
    "with open(asm_encoder_path + \"/pytorch_model.bin\", 'rb') as file:\n",
    "    for chunk in iter(lambda: file.read(4096), b''):\n",
    "        hash_obj.update(chunk)\n",
    "print(hash_obj.hexdigest())"
   ]
  },
  {
   "attachments": {},
   "cell_type": "markdown",
   "metadata": {},
   "source": [
    "# Fine-grained sorting algorithm classification (Zero-Shot)"
   ]
  },
  {
   "cell_type": "code",
   "execution_count": 2,
   "metadata": {},
   "outputs": [
    {
     "name": "stdout",
     "output_type": "stream",
     "text": [
      "{'0': 'endbr64', '1': 'mov     edx, 6', '2': 'xor     eax, eax', '3': 'cmp     edx, eax', '4': 'jle     short INSTR13', '5': 'mov     ecx, [rdi+rax*4]', '6': 'mov     esi, [rdi+rax*4+4]', '7': 'cmp     ecx, esi', '8': 'jle     short INSTR11', '9': 'mov     [rdi+rax*4], esi', '10': 'mov     [rdi+rax*4+4], ecx', '11': 'inc     rax', '12': 'jmp     short INSTR3', '13': 'dec     edx', '14': 'jnz     short INSTR2', '15': 'retn'}\n",
      "bubblesort zeroshot:\n",
      "Probability: 17.954%, Text: This is a function related to bubble sort \n",
      "Probability: 6.919%, Text: This is a function related to selection sort\n",
      "Probability: 11.567%, Text: This is a function related to insertion sort\n",
      "Probability: 5.261%, Text: This is a function related to merge sort\n",
      "Probability: 9.474%, Text: This is a function related to quick sort\n",
      "Probability: 12.454%, Text: This is a function related to radix sort\n",
      "Probability: 12.879%, Text: This is a function related to shell sort\n",
      "Probability: 9.756%, Text: This is a function related to counting sort\n",
      "Probability: 9.351%, Text: This is a function related to bucket sort\n",
      "Probability: 4.385%, Text: This is a function related to heap sort\n"
     ]
    }
   ],
   "source": [
    "\n",
    "with open(bubble_output) as fp:\n",
    "    asm = json.load(fp)\n",
    "print(asm)\n",
    "\n",
    "prompts = [\n",
    "    \"This is a function related to bubble sort \",\n",
    "    \"This is a function related to selection sort\",\n",
    "    \"This is a function related to insertion sort\",\n",
    "    \"This is a function related to merge sort\",\n",
    "    \"This is a function related to quick sort\",\n",
    "    \"This is a function related to radix sort\",\n",
    "    \"This is a function related to shell sort\",\n",
    "    \"This is a function related to counting sort\",\n",
    "    \"This is a function related to bucket sort\",\n",
    "    \"This is a function related to heap sort\",\n",
    "]\n",
    "\n",
    "with torch.no_grad():\n",
    "    tokens = asm_tokenizer.encode_function(asm)\n",
    "    asm_input = asm_tokenizer.pad([tokens], padding=True, pad_to_multiple_of=8, return_tensors=\"pt\", verbose=False).to(device)\n",
    "    asm_embedding = asm_encoder(**asm_input)\n",
    "\n",
    "with torch.no_grad():\n",
    "    encoded_input = text_tokenizer(prompts, padding=True, truncation=True, return_tensors='pt')\n",
    "    encoded_input = encoded_input.to(device)\n",
    "    text_embeddings = text_encoder(**encoded_input)\n",
    "\n",
    "logits = torch.einsum(\"nc,ck->nk\", [asm_embedding, text_embeddings.T])\n",
    "_, preds = torch.max(logits, dim=1)\n",
    "preds = torch.softmax(logits / 0.07, dim=1).squeeze(0).tolist()\n",
    "\n",
    "print(\"bubblesort zeroshot:\")\n",
    "for i in range(len(prompts)):\n",
    "    print(f\"Probability: {round(preds[i]*100, 3)}%, Text: {prompts[i]}\")\n"
   ]
  },
  {
   "attachments": {},
   "cell_type": "markdown",
   "metadata": {},
   "source": [
    "# Fine-grained malware functionality classification (Zero-Shot)"
   ]
  },
  {
   "cell_type": "code",
   "execution_count": 3,
   "metadata": {},
   "outputs": [
    {
     "name": "stdout",
     "output_type": "stream",
     "text": [
      "malware zeroshot:\n",
      "Probability: 75.98%, Text: This is a function related to screen shot\n",
      "Probability: 7.844%, Text: This is a function related to auto start\n",
      "Probability: 1.515%, Text: This is a function related to backdoor\n",
      "Probability: 1.616%, Text: This is a function related to download\n",
      "Probability: 2.431%, Text: This is a function related to upload\n",
      "Probability: 3.327%, Text: This is a function related to rootkit\n",
      "Probability: 1.482%, Text: This is a function related to anti detect\n",
      "Probability: 3.228%, Text: This is a function related to anti debug\n",
      "Probability: 0.919%, Text: This is a function related to passwords brute force\n",
      "Probability: 1.658%, Text: This is a function related to file hijack\n"
     ]
    }
   ],
   "source": [
    "with open(malware_output) as fp:\n",
    "    asm = json.load(fp)\n",
    "\n",
    "prompts = [\n",
    "    \"This is a function related to screen shot\",\n",
    "    \"This is a function related to auto start\",\n",
    "    \"This is a function related to backdoor\",\n",
    "    \"This is a function related to download\",\n",
    "    \"This is a function related to upload\",\n",
    "    \"This is a function related to rootkit\",\n",
    "    \"This is a function related to anti detect\",\n",
    "    \"This is a function related to anti debug\",\n",
    "    \"This is a function related to passwords brute force\",\n",
    "    \"This is a function related to file hijack\",\n",
    "]\n",
    "\n",
    "with torch.no_grad():\n",
    "    tokens = asm_tokenizer.encode_function(asm)\n",
    "    asm_input = asm_tokenizer.pad([tokens], padding=True, pad_to_multiple_of=8, return_tensors=\"pt\", verbose=False).to(device)\n",
    "    asm_embedding = asm_encoder(**asm_input)\n",
    "\n",
    "with torch.no_grad():\n",
    "    encoded_input = text_tokenizer(prompts, padding=True, truncation=True, return_tensors='pt')\n",
    "    encoded_input = encoded_input.to(device)\n",
    "    text_embeddings = text_encoder(**encoded_input)\n",
    "\n",
    "logits = torch.einsum(\"nc,ck->nk\", [asm_embedding, text_embeddings.T])\n",
    "_, preds = torch.max(logits, dim=1)\n",
    "preds = torch.softmax(logits / 0.07, dim=1).squeeze(0).tolist()\n",
    "\n",
    "print(\"malware zeroshot:\")\n",
    "for i in range(len(prompts)):\n",
    "    print(f\"Probability: {round(preds[i]*100, 3)}%, Text: {prompts[i]}\")\n"
   ]
  },
  {
   "attachments": {},
   "cell_type": "markdown",
   "metadata": {},
   "source": [
    "# Fine-grained crypto algorithm classification (Zero-Shot)"
   ]
  },
  {
   "cell_type": "code",
   "execution_count": 4,
   "metadata": {},
   "outputs": [
    {
     "name": "stdout",
     "output_type": "stream",
     "text": [
      "{'0': 'endbr64', '1': 'push    rbp', '2': 'mov     rbp, rsp', '3': 'sub     rsp, 30h', '4': 'mov     [rbp+var_18], rdi', '5': 'mov     [rbp+var_20], rsi', '6': 'mov     [rbp+var_24], edx', '7': 'mov     rax, [rbp+var_18]', '8': 'mov     eax, [rax+0CCh]', '9': 'mov     [rbp+var_4], eax', '10': 'mov     [rbp+var_8], 0', '11': 'jmp     short INSTR40', '12': 'mov     rax, [rbp+var_18]', '13': 'mov     eax, [rax+0C8h]', '14': 'lea     ecx, [rax+1]', '15': 'mov     rdx, [rbp+var_18]', '16': 'mov     [rdx+0C8h], ecx', '17': 'mov     rcx, [rbp+var_18]', '18': 'movsxd  rdx, eax', '19': 'movzx   esi, byte ptr [rcx+rdx]', '20': 'mov     edx, [rbp+var_8]', '21': 'movsxd  rcx, edx', '22': 'mov     rdx, [rbp+var_20]', '23': 'add     rdx, rcx', '24': 'movzx   edx, byte ptr [rdx]', '25': 'xor     esi, edx', '26': 'mov     ecx, esi', '27': 'mov     rdx, [rbp+var_18]', '28': 'cdqe', '29': 'mov     [rdx+rax], cl', '30': 'mov     rax, [rbp+var_18]', '31': 'mov     eax, [rax+0C8h]', '32': 'cmp     [rbp+var_4], eax', '33': 'jnz     short INSTR39', '34': 'mov     rax, [rbp+var_18]', '35': 'mov     dword ptr [rax+0C8h], 0', '36': 'mov     rax, [rbp+var_18]', '37': 'mov     rdi, rax', '38': 'call    keccakf', '39': 'add     [rbp+var_8], 1', '40': 'mov     eax, [rbp+var_8]', '41': 'cmp     eax, [rbp+var_24]', '42': 'jl      short INSTR12', '43': 'nop', '44': 'nop', '45': 'leave', '46': 'retn'}\n",
      "sha3 zeroshot:\n",
      "Probability: 62.579%, Text: This is a function related to sha3\n",
      "Probability: 1.63%, Text: This is a function related to des\n",
      "Probability: 3.479%, Text: This is a function related to bubble sort\n",
      "Probability: 24.634%, Text: This is a function related to md5\n",
      "Probability: 5.705%, Text: This is a function related to rsa\n",
      "Probability: 1.974%, Text: This is a function related to sm4\n"
     ]
    }
   ],
   "source": [
    "with open(sha3) as fp:\n",
    "    asm = json.load(fp)\n",
    "print(asm)\n",
    "\n",
    "prompts = [\n",
    "    \"This is a function related to sha3\",\n",
    "    \"This is a function related to des\",\n",
    "    \"This is a function related to bubble sort\",\n",
    "    \"This is a function related to md5\",\n",
    "    \"This is a function related to rsa\",\n",
    "    \"This is a function related to sm4\"\n",
    "]\n",
    "\n",
    "with torch.no_grad():\n",
    "    tokens = asm_tokenizer.encode_function(asm)\n",
    "    asm_input = asm_tokenizer.pad([tokens], padding=True, pad_to_multiple_of=8, return_tensors=\"pt\", verbose=False).to(device)\n",
    "    asm_embedding = asm_encoder(**asm_input)\n",
    "\n",
    "with torch.no_grad():\n",
    "    encoded_input = text_tokenizer(prompts, padding=True, truncation=True, return_tensors='pt')\n",
    "    encoded_input = encoded_input.to(device)\n",
    "    text_embeddings = text_encoder(**encoded_input)\n",
    "\n",
    "logits = torch.einsum(\"nc,ck->nk\", [asm_embedding, text_embeddings.T])\n",
    "_, preds = torch.max(logits, dim=1)\n",
    "preds = torch.softmax(logits / 0.07, dim=1).squeeze(0).tolist()\n",
    "\n",
    "print(\"sha3 zeroshot:\")\n",
    "for i in range(len(prompts)):\n",
    "    print(f\"Probability: {round(preds[i]*100, 3)}%, Text: {prompts[i]}\")"
   ]
  }
 ],
 "metadata": {
  "kernelspec": {
   "display_name": "llasm",
   "language": "python",
   "name": "python3"
  },
  "language_info": {
   "codemirror_mode": {
    "name": "ipython",
    "version": 3
   },
   "file_extension": ".py",
   "mimetype": "text/x-python",
   "name": "python",
   "nbconvert_exporter": "python",
   "pygments_lexer": "ipython3",
   "version": "3.10.11"
  },
  "orig_nbformat": 4
 },
 "nbformat": 4,
 "nbformat_minor": 2
}
